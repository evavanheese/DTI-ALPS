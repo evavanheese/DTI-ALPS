{
  "nbformat": 4,
  "nbformat_minor": 0,
  "metadata": {
    "colab": {
      "provenance": []
    },
    "kernelspec": {
      "name": "python3",
      "display_name": "Python 3"
    },
    "language_info": {
      "name": "python"
    }
  },
  "cells": [
    {
      "cell_type": "markdown",
      "source": [
        "# Script to calculate the DTI-ALPS index from raw diffusivity output values"
      ],
      "metadata": {
        "id": "99hc7kAgrfMI"
      }
    },
    {
      "cell_type": "markdown",
      "source": [
        "*Eva van Heese\n",
        "May 29th 2023, version 2.0"
      ],
      "metadata": {
        "id": "7MLt7-ElrsHF"
      }
    },
    {
      "cell_type": "markdown",
      "source": [
        "Input requirements: .csv output files as produced by extract_diff_from_mask.sh script\n"
      ],
      "metadata": {
        "id": "fUq68jIoru88"
      }
    },
    {
      "cell_type": "code",
      "source": [
        "#import libraries\n",
        "import pandas as pd\n",
        "import statistics as stat\n",
        "import re\n",
        "import numpy as np\n",
        "import seaborn as sns\n",
        "import matplotlib.pyplot as plt\n"
      ],
      "metadata": {
        "id": "orearPC2sNwe"
      },
      "execution_count": null,
      "outputs": []
    },
    {
      "cell_type": "code",
      "source": [
        "#load data\n",
        "df = pd.read_csv(\"all_output_raw.csv\")\n",
        "#print(df[0:15])\n",
        "print(df)"
      ],
      "metadata": {
        "colab": {
          "base_uri": "https://localhost:8080/"
        },
        "id": "l8PKNW6MsF23",
        "outputId": "9cb1b144-8208-445c-e3cb-ad679c379e06"
      },
      "execution_count": null,
      "outputs": [
        {
          "output_type": "stream",
          "name": "stdout",
          "text": [
            "                 subject_outcome  min       max      mean        SD  perc_2.5  \\\n",
            "0     0001_smri_dti_1_Dxx_proj_L    0  0.000641  0.000563  0.000060  0.000443   \n",
            "1     0001_smri_dti_1_Dxx_proj_R    0  0.000619  0.000553  0.000042  0.000480   \n",
            "2    0001_smri_dti_1_Dxx_assoc_L    0  0.000681  0.000469  0.000124  0.000308   \n",
            "3    0001_smri_dti_1_Dxx_assoc_R    0  0.000724  0.000588  0.000076  0.000496   \n",
            "4     0001_smri_dti_1_Dyy_proj_L    0  0.000610  0.000518  0.000075  0.000437   \n",
            "..                           ...  ...       ...       ...       ...       ...   \n",
            "259  0023_smri_dti_1_Dyy_assoc_R    0  0.001574  0.001475  0.000062  0.001409   \n",
            "260   0023_smri_dti_1_Dzz_proj_L    0  0.001134  0.001022  0.000057  0.000963   \n",
            "261   0023_smri_dti_1_Dzz_proj_R    0  0.001205  0.001123  0.000058  0.001018   \n",
            "262  0023_smri_dti_1_Dzz_assoc_L    0  0.000413  0.000316  0.000066  0.000246   \n",
            "263  0023_smri_dti_1_Dzz_assoc_R    0  0.000538  0.000460  0.000051  0.000393   \n",
            "\n",
            "       median  perc_97.5  ROI_voxels_n  ROI_voxels_volume  \n",
            "0    0.000568   0.000641             9                 72  \n",
            "1    0.000542   0.000619             9                 72  \n",
            "2    0.000431   0.000681             9                 72  \n",
            "3    0.000585   0.000724             9                 72  \n",
            "4    0.000492   0.000610             9                 72  \n",
            "..        ...        ...           ...                ...  \n",
            "259  0.001475   0.001574             9                 72  \n",
            "260  0.001000   0.001134             9                 72  \n",
            "261  0.001143   0.001205             9                 72  \n",
            "262  0.000310   0.000413             9                 72  \n",
            "263  0.000465   0.000538             9                 72  \n",
            "\n",
            "[264 rows x 10 columns]\n"
          ]
        }
      ]
    },
    {
      "cell_type": "code",
      "source": [
        "#empty dataframe for output\n",
        "df_out = pd.DataFrame(columns=['left_DTI-ALPS_index', 'right_DTI-ALPS_index'])\n",
        "\n",
        "#iterate loop over number of rows input data divided by 12 (equals number of subjects)\n",
        "n_subs = int((len(df.index))/12)\n",
        "count = 0\n",
        "for sub in range(n_subs):\n",
        "  #extract values from correct rows in dataframe and calculate index\n",
        "  print(\"processing sub\", sub)\n",
        "  #left hemisphere\n",
        "  Dxp_l=df['mean'].loc[df.index[count+0]]\n",
        "  Dxa_l=df['mean'].loc[df.index[count+2]]\n",
        "  Dyp_l=df['mean'].loc[df.index[count+4]]\n",
        "  Dza_l=df['mean'].loc[df.index[count+10]]\n",
        "  index_l=(stat.mean([Dxp_l, Dxa_l])/stat.mean([Dyp_l, Dza_l]))\n",
        "  #print(\"left index is\", index_l)\n",
        "  #right hemisphere\n",
        "  Dxp_r=df['mean'].loc[df.index[count+1]]\n",
        "  Dxa_r=df['mean'].loc[df.index[count+3]]\n",
        "  Dyp_r=df['mean'].loc[df.index[count+5]]\n",
        "  Dza_r=df['mean'].loc[df.index[count+11]]\n",
        "  index_r=(stat.mean([Dxp_r, Dxa_r])/stat.mean([Dyp_r, Dza_r]))\n",
        "  #print(\"right index is\", index_r)\n",
        "  #save index to list\n",
        "  df_out = df_out.append(pd.DataFrame(data={'left_DTI-ALPS_index': index_l, 'right_DTI-ALPS_index': index_r}, index = [0]), ignore_index = True)\n",
        "  count = count + 12"
      ],
      "metadata": {
        "colab": {
          "base_uri": "https://localhost:8080/"
        },
        "id": "alk2nBHItMya",
        "outputId": "14b460d8-ce2d-4d9c-b9bc-292e1f66a39e"
      },
      "execution_count": null,
      "outputs": [
        {
          "output_type": "stream",
          "name": "stdout",
          "text": [
            "processing sub 0\n",
            "processing sub 1\n",
            "processing sub 2\n",
            "processing sub 3\n",
            "processing sub 4\n",
            "processing sub 5\n",
            "processing sub 6\n",
            "processing sub 7\n",
            "processing sub 8\n",
            "processing sub 9\n",
            "processing sub 10\n",
            "processing sub 11\n",
            "processing sub 12\n",
            "processing sub 13\n",
            "processing sub 14\n",
            "processing sub 15\n",
            "processing sub 16\n",
            "processing sub 17\n",
            "processing sub 18\n",
            "processing sub 19\n",
            "processing sub 20\n",
            "processing sub 21\n"
          ]
        },
        {
          "output_type": "stream",
          "name": "stderr",
          "text": [
            "<ipython-input-16-3d0117d86aae>:25: FutureWarning: The frame.append method is deprecated and will be removed from pandas in a future version. Use pandas.concat instead.\n",
            "  df_out = df_out.append(pd.DataFrame(data={'left_DTI-ALPS_index': index_l, 'right_DTI-ALPS_index': index_r}, index = [0]), ignore_index = True)\n",
            "<ipython-input-16-3d0117d86aae>:25: FutureWarning: The frame.append method is deprecated and will be removed from pandas in a future version. Use pandas.concat instead.\n",
            "  df_out = df_out.append(pd.DataFrame(data={'left_DTI-ALPS_index': index_l, 'right_DTI-ALPS_index': index_r}, index = [0]), ignore_index = True)\n",
            "<ipython-input-16-3d0117d86aae>:25: FutureWarning: The frame.append method is deprecated and will be removed from pandas in a future version. Use pandas.concat instead.\n",
            "  df_out = df_out.append(pd.DataFrame(data={'left_DTI-ALPS_index': index_l, 'right_DTI-ALPS_index': index_r}, index = [0]), ignore_index = True)\n",
            "<ipython-input-16-3d0117d86aae>:25: FutureWarning: The frame.append method is deprecated and will be removed from pandas in a future version. Use pandas.concat instead.\n",
            "  df_out = df_out.append(pd.DataFrame(data={'left_DTI-ALPS_index': index_l, 'right_DTI-ALPS_index': index_r}, index = [0]), ignore_index = True)\n",
            "<ipython-input-16-3d0117d86aae>:25: FutureWarning: The frame.append method is deprecated and will be removed from pandas in a future version. Use pandas.concat instead.\n",
            "  df_out = df_out.append(pd.DataFrame(data={'left_DTI-ALPS_index': index_l, 'right_DTI-ALPS_index': index_r}, index = [0]), ignore_index = True)\n",
            "<ipython-input-16-3d0117d86aae>:25: FutureWarning: The frame.append method is deprecated and will be removed from pandas in a future version. Use pandas.concat instead.\n",
            "  df_out = df_out.append(pd.DataFrame(data={'left_DTI-ALPS_index': index_l, 'right_DTI-ALPS_index': index_r}, index = [0]), ignore_index = True)\n",
            "<ipython-input-16-3d0117d86aae>:25: FutureWarning: The frame.append method is deprecated and will be removed from pandas in a future version. Use pandas.concat instead.\n",
            "  df_out = df_out.append(pd.DataFrame(data={'left_DTI-ALPS_index': index_l, 'right_DTI-ALPS_index': index_r}, index = [0]), ignore_index = True)\n",
            "<ipython-input-16-3d0117d86aae>:25: FutureWarning: The frame.append method is deprecated and will be removed from pandas in a future version. Use pandas.concat instead.\n",
            "  df_out = df_out.append(pd.DataFrame(data={'left_DTI-ALPS_index': index_l, 'right_DTI-ALPS_index': index_r}, index = [0]), ignore_index = True)\n",
            "<ipython-input-16-3d0117d86aae>:25: FutureWarning: The frame.append method is deprecated and will be removed from pandas in a future version. Use pandas.concat instead.\n",
            "  df_out = df_out.append(pd.DataFrame(data={'left_DTI-ALPS_index': index_l, 'right_DTI-ALPS_index': index_r}, index = [0]), ignore_index = True)\n",
            "<ipython-input-16-3d0117d86aae>:25: FutureWarning: The frame.append method is deprecated and will be removed from pandas in a future version. Use pandas.concat instead.\n",
            "  df_out = df_out.append(pd.DataFrame(data={'left_DTI-ALPS_index': index_l, 'right_DTI-ALPS_index': index_r}, index = [0]), ignore_index = True)\n",
            "<ipython-input-16-3d0117d86aae>:25: FutureWarning: The frame.append method is deprecated and will be removed from pandas in a future version. Use pandas.concat instead.\n",
            "  df_out = df_out.append(pd.DataFrame(data={'left_DTI-ALPS_index': index_l, 'right_DTI-ALPS_index': index_r}, index = [0]), ignore_index = True)\n",
            "<ipython-input-16-3d0117d86aae>:25: FutureWarning: The frame.append method is deprecated and will be removed from pandas in a future version. Use pandas.concat instead.\n",
            "  df_out = df_out.append(pd.DataFrame(data={'left_DTI-ALPS_index': index_l, 'right_DTI-ALPS_index': index_r}, index = [0]), ignore_index = True)\n",
            "<ipython-input-16-3d0117d86aae>:25: FutureWarning: The frame.append method is deprecated and will be removed from pandas in a future version. Use pandas.concat instead.\n",
            "  df_out = df_out.append(pd.DataFrame(data={'left_DTI-ALPS_index': index_l, 'right_DTI-ALPS_index': index_r}, index = [0]), ignore_index = True)\n",
            "<ipython-input-16-3d0117d86aae>:25: FutureWarning: The frame.append method is deprecated and will be removed from pandas in a future version. Use pandas.concat instead.\n",
            "  df_out = df_out.append(pd.DataFrame(data={'left_DTI-ALPS_index': index_l, 'right_DTI-ALPS_index': index_r}, index = [0]), ignore_index = True)\n",
            "<ipython-input-16-3d0117d86aae>:25: FutureWarning: The frame.append method is deprecated and will be removed from pandas in a future version. Use pandas.concat instead.\n",
            "  df_out = df_out.append(pd.DataFrame(data={'left_DTI-ALPS_index': index_l, 'right_DTI-ALPS_index': index_r}, index = [0]), ignore_index = True)\n",
            "<ipython-input-16-3d0117d86aae>:25: FutureWarning: The frame.append method is deprecated and will be removed from pandas in a future version. Use pandas.concat instead.\n",
            "  df_out = df_out.append(pd.DataFrame(data={'left_DTI-ALPS_index': index_l, 'right_DTI-ALPS_index': index_r}, index = [0]), ignore_index = True)\n",
            "<ipython-input-16-3d0117d86aae>:25: FutureWarning: The frame.append method is deprecated and will be removed from pandas in a future version. Use pandas.concat instead.\n",
            "  df_out = df_out.append(pd.DataFrame(data={'left_DTI-ALPS_index': index_l, 'right_DTI-ALPS_index': index_r}, index = [0]), ignore_index = True)\n",
            "<ipython-input-16-3d0117d86aae>:25: FutureWarning: The frame.append method is deprecated and will be removed from pandas in a future version. Use pandas.concat instead.\n",
            "  df_out = df_out.append(pd.DataFrame(data={'left_DTI-ALPS_index': index_l, 'right_DTI-ALPS_index': index_r}, index = [0]), ignore_index = True)\n",
            "<ipython-input-16-3d0117d86aae>:25: FutureWarning: The frame.append method is deprecated and will be removed from pandas in a future version. Use pandas.concat instead.\n",
            "  df_out = df_out.append(pd.DataFrame(data={'left_DTI-ALPS_index': index_l, 'right_DTI-ALPS_index': index_r}, index = [0]), ignore_index = True)\n",
            "<ipython-input-16-3d0117d86aae>:25: FutureWarning: The frame.append method is deprecated and will be removed from pandas in a future version. Use pandas.concat instead.\n",
            "  df_out = df_out.append(pd.DataFrame(data={'left_DTI-ALPS_index': index_l, 'right_DTI-ALPS_index': index_r}, index = [0]), ignore_index = True)\n",
            "<ipython-input-16-3d0117d86aae>:25: FutureWarning: The frame.append method is deprecated and will be removed from pandas in a future version. Use pandas.concat instead.\n",
            "  df_out = df_out.append(pd.DataFrame(data={'left_DTI-ALPS_index': index_l, 'right_DTI-ALPS_index': index_r}, index = [0]), ignore_index = True)\n",
            "<ipython-input-16-3d0117d86aae>:25: FutureWarning: The frame.append method is deprecated and will be removed from pandas in a future version. Use pandas.concat instead.\n",
            "  df_out = df_out.append(pd.DataFrame(data={'left_DTI-ALPS_index': index_l, 'right_DTI-ALPS_index': index_r}, index = [0]), ignore_index = True)\n"
          ]
        }
      ]
    },
    {
      "cell_type": "code",
      "source": [
        "df_out.to_csv('output_index_PA.csv')"
      ],
      "metadata": {
        "id": "_e9MCD8YEHqG"
      },
      "execution_count": null,
      "outputs": []
    }
  ]
}